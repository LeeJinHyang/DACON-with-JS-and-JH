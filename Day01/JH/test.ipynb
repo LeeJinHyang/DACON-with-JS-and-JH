{
 "metadata": {
  "language_info": {
   "codemirror_mode": {
    "name": "ipython",
    "version": 3
   },
   "file_extension": ".py",
   "mimetype": "text/x-python",
   "name": "python",
   "nbconvert_exporter": "python",
   "pygments_lexer": "ipython3",
   "version": 3
  },
  "orig_nbformat": 2,
  "kernelspec": {
   "name": "python_defaultSpec_1596882946042",
   "display_name": "Python 3.5.3 64-bit"
  }
 },
 "nbformat": 4,
 "nbformat_minor": 2,
 "cells": [
  {
   "cell_type": "code",
   "execution_count": 5,
   "metadata": {
    "tags": []
   },
   "outputs": [
    {
     "output_type": "stream",
     "name": "stdout",
     "text": "Requirement already up-to-date: pip in c:\\program files\\python35\\lib\\site-packages (20.2.1)\nRequirement already satisfied: pandas in c:\\program files\\python35\\lib\\site-packages (0.25.3)\nRequirement already satisfied: numpy>=1.13.3 in c:\\program files\\python35\\lib\\site-packages (from pandas) (1.18.5)\nRequirement already satisfied: pytz>=2017.2 in c:\\program files\\python35\\lib\\site-packages (from pandas) (2020.1)\nRequirement already satisfied: python-dateutil>=2.6.1 in c:\\users\\multicampus\\appdata\\roaming\\python\\python35\\site-packages (from pandas) (2.8.1)\nRequirement already satisfied: six>=1.5 in c:\\users\\multicampus\\appdata\\roaming\\python\\python35\\site-packages (from python-dateutil>=2.6.1->pandas) (1.15.0)\nRequirement already satisfied: numpy in c:\\program files\\python35\\lib\\site-packages (1.18.5)\nCollecting sklearn\n  Downloading sklearn-0.0.tar.gz (1.1 kB)\nCollecting scikit-learn\n  Downloading scikit_learn-0.22.2.post1-cp35-cp35m-win_amd64.whl (6.2 MB)\nRequirement already satisfied: numpy>=1.11.0 in c:\\program files\\python35\\lib\\site-packages (from scikit-learn->sklearn) (1.18.5)\nCollecting joblib>=0.11\n  Downloading joblib-0.14.1-py2.py3-none-any.whl (294 kB)\nCollecting scipy>=0.17.0\n  Downloading scipy-1.4.1-cp35-cp35m-win_amd64.whl (30.8 MB)\nUsing legacy 'setup.py install' for sklearn, since package 'wheel' is not installed.\nInstalling collected packages: joblib, scipy, scikit-learn, sklearn\n    Running setup.py install for sklearn: started\n    Running setup.py install for sklearn: finished with status 'done'\nSuccessfully installed joblib-0.14.1 scikit-learn-0.22.2.post1 scipy-1.4.1 sklearn-0.0\nERROR: Could not find a version that satisfies the requirement RandomForestRegressor (from versions: none)\nERROR: No matching distribution found for RandomForestRegressor\nERROR: Could not find a version that satisfies the requirement LabelEncoder (from versions: none)\nERROR: No matching distribution found for LabelEncoder\n"
    }
   ],
   "source": [
    "!pip install --upgrade pip\n",
    "!pip install pandas\n",
    "!pip install numpy\n",
    "!pip install sklearn"
   ]
  },
  {
   "cell_type": "code",
   "execution_count": 10,
   "metadata": {},
   "outputs": [],
   "source": [
    "import pandas as pd\n",
    "import numpy as np\n",
    "import sklearn\n",
    "from sklearn.ensemble import RandomForestRegressor\n",
    "from sklearn.preprocessing import LabelEncoder"
   ]
  },
  {
   "cell_type": "code",
   "execution_count": 11,
   "metadata": {
    "tags": []
   },
   "outputs": [
    {
     "output_type": "stream",
     "name": "stdout",
     "text": "Pandas : 0.25.3\nNumpy : 1.18.5\nScikit-Learn : 0.22.2.post1\nPython 3.5.3\n"
    }
   ],
   "source": [
    "print('Pandas : %s'%(pd.__version__))\n",
    "print('Numpy : %s'%(np.__version__))\n",
    "print('Scikit-Learn : %s'%(sklearn.__version__))\n",
    "!python --version"
   ]
  },
  {
   "cell_type": "code",
   "execution_count": 14,
   "metadata": {},
   "outputs": [
    {
     "output_type": "execute_result",
     "data": {
      "text/plain": "          REG_YYMM CARD_SIDO_NM CARD_CCG_NM STD_CLSS_NM HOM_SIDO_NM  \\\n0           201901           강원         강릉시  건강보조식품 소매업          강원   \n1           201901           강원         강릉시  건강보조식품 소매업          강원   \n2           201901           강원         강릉시  건강보조식품 소매업          강원   \n3           201901           강원         강릉시  건강보조식품 소매업          강원   \n4           201901           강원         강릉시  건강보조식품 소매업          강원   \n...            ...          ...         ...         ...         ...   \n24697787    202003           충북         충주시    휴양콘도 운영업          충북   \n24697788    202003           충북         충주시    휴양콘도 운영업          충북   \n24697789    202003           충북         충주시    휴양콘도 운영업          충북   \n24697790    202003           충북         충주시    휴양콘도 운영업          충북   \n24697791    202003           충북         충주시    휴양콘도 운영업          충북   \n\n         HOM_CCG_NM  AGE  SEX_CTGO_CD  FLC  CSTMR_CNT      AMT  CNT  \n0               강릉시  20s            1    1          4   311200    4  \n1               강릉시  30s            1    2          7  1374500    8  \n2               강릉시  30s            2    2          6   818700    6  \n3               강릉시  40s            1    3          4  1717000    5  \n4               강릉시  40s            1    4          3  1047300    3  \n...             ...  ...          ...  ...        ...      ...  ...  \n24697787        충주시  30s            1    2          3    43300    4  \n24697788        충주시  40s            1    3          3    35000    3  \n24697789        충주시  50s            1    4          4   188000    6  \n24697790        충주시  50s            2    4          4    99000    6  \n24697791        충주시  60s            1    5          3   194000    3  \n\n[24697792 rows x 12 columns]",
      "text/html": "<div>\n<style scoped>\n    .dataframe tbody tr th:only-of-type {\n        vertical-align: middle;\n    }\n\n    .dataframe tbody tr th {\n        vertical-align: top;\n    }\n\n    .dataframe thead th {\n        text-align: right;\n    }\n</style>\n<table border=\"1\" class=\"dataframe\">\n  <thead>\n    <tr style=\"text-align: right;\">\n      <th></th>\n      <th>REG_YYMM</th>\n      <th>CARD_SIDO_NM</th>\n      <th>CARD_CCG_NM</th>\n      <th>STD_CLSS_NM</th>\n      <th>HOM_SIDO_NM</th>\n      <th>HOM_CCG_NM</th>\n      <th>AGE</th>\n      <th>SEX_CTGO_CD</th>\n      <th>FLC</th>\n      <th>CSTMR_CNT</th>\n      <th>AMT</th>\n      <th>CNT</th>\n    </tr>\n  </thead>\n  <tbody>\n    <tr>\n      <th>0</th>\n      <td>201901</td>\n      <td>강원</td>\n      <td>강릉시</td>\n      <td>건강보조식품 소매업</td>\n      <td>강원</td>\n      <td>강릉시</td>\n      <td>20s</td>\n      <td>1</td>\n      <td>1</td>\n      <td>4</td>\n      <td>311200</td>\n      <td>4</td>\n    </tr>\n    <tr>\n      <th>1</th>\n      <td>201901</td>\n      <td>강원</td>\n      <td>강릉시</td>\n      <td>건강보조식품 소매업</td>\n      <td>강원</td>\n      <td>강릉시</td>\n      <td>30s</td>\n      <td>1</td>\n      <td>2</td>\n      <td>7</td>\n      <td>1374500</td>\n      <td>8</td>\n    </tr>\n    <tr>\n      <th>2</th>\n      <td>201901</td>\n      <td>강원</td>\n      <td>강릉시</td>\n      <td>건강보조식품 소매업</td>\n      <td>강원</td>\n      <td>강릉시</td>\n      <td>30s</td>\n      <td>2</td>\n      <td>2</td>\n      <td>6</td>\n      <td>818700</td>\n      <td>6</td>\n    </tr>\n    <tr>\n      <th>3</th>\n      <td>201901</td>\n      <td>강원</td>\n      <td>강릉시</td>\n      <td>건강보조식품 소매업</td>\n      <td>강원</td>\n      <td>강릉시</td>\n      <td>40s</td>\n      <td>1</td>\n      <td>3</td>\n      <td>4</td>\n      <td>1717000</td>\n      <td>5</td>\n    </tr>\n    <tr>\n      <th>4</th>\n      <td>201901</td>\n      <td>강원</td>\n      <td>강릉시</td>\n      <td>건강보조식품 소매업</td>\n      <td>강원</td>\n      <td>강릉시</td>\n      <td>40s</td>\n      <td>1</td>\n      <td>4</td>\n      <td>3</td>\n      <td>1047300</td>\n      <td>3</td>\n    </tr>\n    <tr>\n      <th>...</th>\n      <td>...</td>\n      <td>...</td>\n      <td>...</td>\n      <td>...</td>\n      <td>...</td>\n      <td>...</td>\n      <td>...</td>\n      <td>...</td>\n      <td>...</td>\n      <td>...</td>\n      <td>...</td>\n      <td>...</td>\n    </tr>\n    <tr>\n      <th>24697787</th>\n      <td>202003</td>\n      <td>충북</td>\n      <td>충주시</td>\n      <td>휴양콘도 운영업</td>\n      <td>충북</td>\n      <td>충주시</td>\n      <td>30s</td>\n      <td>1</td>\n      <td>2</td>\n      <td>3</td>\n      <td>43300</td>\n      <td>4</td>\n    </tr>\n    <tr>\n      <th>24697788</th>\n      <td>202003</td>\n      <td>충북</td>\n      <td>충주시</td>\n      <td>휴양콘도 운영업</td>\n      <td>충북</td>\n      <td>충주시</td>\n      <td>40s</td>\n      <td>1</td>\n      <td>3</td>\n      <td>3</td>\n      <td>35000</td>\n      <td>3</td>\n    </tr>\n    <tr>\n      <th>24697789</th>\n      <td>202003</td>\n      <td>충북</td>\n      <td>충주시</td>\n      <td>휴양콘도 운영업</td>\n      <td>충북</td>\n      <td>충주시</td>\n      <td>50s</td>\n      <td>1</td>\n      <td>4</td>\n      <td>4</td>\n      <td>188000</td>\n      <td>6</td>\n    </tr>\n    <tr>\n      <th>24697790</th>\n      <td>202003</td>\n      <td>충북</td>\n      <td>충주시</td>\n      <td>휴양콘도 운영업</td>\n      <td>충북</td>\n      <td>충주시</td>\n      <td>50s</td>\n      <td>2</td>\n      <td>4</td>\n      <td>4</td>\n      <td>99000</td>\n      <td>6</td>\n    </tr>\n    <tr>\n      <th>24697791</th>\n      <td>202003</td>\n      <td>충북</td>\n      <td>충주시</td>\n      <td>휴양콘도 운영업</td>\n      <td>충북</td>\n      <td>충주시</td>\n      <td>60s</td>\n      <td>1</td>\n      <td>5</td>\n      <td>3</td>\n      <td>194000</td>\n      <td>3</td>\n    </tr>\n  </tbody>\n</table>\n<p>24697792 rows × 12 columns</p>\n</div>"
     },
     "metadata": {},
     "execution_count": 14
    }
   ],
   "source": [
    "data1 = pd.read_csv('../제주시신용카드빅데이터경진대회/201901-202003/201901-202003.csv')\n",
    "data1"
   ]
  },
  {
   "cell_type": "code",
   "execution_count": null,
   "metadata": {},
   "outputs": [],
   "source": [
    "data2 = pd.read_csv('../제주시신용카드빅데이터경진대회/202004/202004.csv')\n",
    "data1"
   ]
  }
 ]
}